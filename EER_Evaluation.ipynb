import json
import numpy
import matplotlib.pyplot as plt

def accuracy_plot(json_path : list): 
    data = {}
    for l in json_path:
        fj = open(l,'r')
        temp = json.load(fj)
        data.update(temp)
        print("loopwise length ",len(data.keys()))
    bona_s1 = []
    bona_s2 = []
    spoof_s1 = []
    spoof_s2 = []
    false_positive, true_positive, false_negative, true_negative = 0, 0 , 0 , 0
    # FRR = 0
    wrong = 0
    total = len(data.keys())
    list_leys = list(data.keys())
    for x in list_leys[0:1050]:
        info = data[x]
        if info["gt"] == "bonafide":
            bona_s1.append(info["score1"])
            bona_s2.append(info["score2"])
            if not info["res"] == "bonafied":
                false_negative += 1
                wrong += 1
            else:
                true_positive += 1
        else:
            spoof_s1.append(info["score1"])
            spoof_s2.append(info["score2"])
            if not info["res"] == "spoof":
                false_positive += 1
                wrong += 1
            else:
                true_negative += 1
    print("Total audios {}, with accuracy of {}".format(total, ((total-wrong)/total)))
    FAR_old = (false_positive / (false_positive + true_negative)) * 100
    FRR_old = (false_negative / (false_negative + true_positive)) * 100
    EER_old = (FAR_old + FRR_old) / 2 
    print(" FAR is {}\n FRR is {} \n EER {}".format(FAR_old, FRR_old, EER_old))
    plt.scatter(bona_s1, bona_s2)
    plt.scatter(spoof_s1,spoof_s2)
    plt.ylabel("Score 2")
    plt.xlabel("Score1")
    plt.show()            
    FP, FN, TP, TN = 0, 0 , 0 , 0
    wrong1 = 0
    LA =0
    for x in data.keys():
        info = data[x] 
        decision = "bonafied" if info["score2"]<= 0 else "spoof"
        if info["gt"] == "bonafide":
            if not decision == "bonafied":
                wrong1 += 1
                FN += 1
            else:
                TP += 1
        else:
            LA += 1
            if not decision == "spoof":
                wrong1 += 1
                FP += 1
            else:
                TN +=1
                                
    print("Total audios {}, with accuracy of {}".format(total, ((total-wrong1)/total)))
    print("Only Spoof accuracy = {}".format(((LA-wrong1)/LA)))
    FAR = (FP / (FP + TN)) * 100
    FRR = (FN / (FN + TP)) * 100
    EER = (FAR + FRR) / 2 
    print(" FAR is {}\n FRR is {} \n EER {}".format(FAR, FRR, EER))
